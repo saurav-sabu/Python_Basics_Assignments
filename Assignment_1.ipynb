{
  "nbformat": 4,
  "nbformat_minor": 0,
  "metadata": {
    "colab": {
      "name": "Assignment-1.ipynb",
      "provenance": [],
      "collapsed_sections": []
    },
    "kernelspec": {
      "name": "python3",
      "display_name": "Python 3"
    },
    "language_info": {
      "name": "python"
    }
  },
  "cells": [
    {
      "cell_type": "markdown",
      "metadata": {
        "id": "0IHeTaGzi7eF"
      },
      "source": [
        "#**Topics: Input and output operators Data Types**"
      ]
    },
    {
      "cell_type": "markdown",
      "metadata": {
        "id": "oOJUa8QTjEd7"
      },
      "source": [
        "## 1. Write a python script to add two numbers (integers) taken from user through keyboard."
      ]
    },
    {
      "cell_type": "code",
      "metadata": {
        "colab": {
          "base_uri": "https://localhost:8080/"
        },
        "id": "cM0pQkpViZX6",
        "outputId": "0137da98-0809-4842-be1d-4e67ac983ca5"
      },
      "source": [
        "a = int(input(\"Enter first number:\"))\n",
        "b = int(input(\"Enter second number:\"))\n",
        "print(f\"Sum of {a} and {b} is {a+b}\")"
      ],
      "execution_count": 2,
      "outputs": [
        {
          "output_type": "stream",
          "name": "stdout",
          "text": [
            "Enter first number:1\n",
            "Enter second number:2\n",
            "Sum of 1 and 2 is 3\n"
          ]
        }
      ]
    },
    {
      "cell_type": "markdown",
      "metadata": {
        "id": "xyE86gGtjpoq"
      },
      "source": [
        "## 2. Write a python script to calculate area of circle, radius is taken from user."
      ]
    },
    {
      "cell_type": "code",
      "metadata": {
        "colab": {
          "base_uri": "https://localhost:8080/"
        },
        "id": "wjpVRYC-jJWX",
        "outputId": "d626114d-289d-4513-95c6-719104e8d2c4"
      },
      "source": [
        "import math\n",
        "radius = float(input(\"Enter the radius of the circle:\"))\n",
        "area = math.pi*radius*radius\n",
        "print(f\"Area of circle with radius {radius} is {area}\")"
      ],
      "execution_count": 5,
      "outputs": [
        {
          "output_type": "stream",
          "name": "stdout",
          "text": [
            "Enter the radius of the circle:3\n",
            "Area of circle with radius 3.0 is 28.274333882308138\n"
          ]
        }
      ]
    },
    {
      "cell_type": "markdown",
      "metadata": {
        "id": "xXXhAu_JkV9e"
      },
      "source": [
        "## 3. Write a python script to calculate volume of a cuboid,dimensions (float values) taken from user."
      ]
    },
    {
      "cell_type": "code",
      "metadata": {
        "colab": {
          "base_uri": "https://localhost:8080/"
        },
        "id": "dCJb8sdckDxg",
        "outputId": "39d8f6ae-a51e-4fd7-abc9-6e03f7ca8bbe"
      },
      "source": [
        "length = float(input(\"Enter the length of the cuboid:\"))\n",
        "breath = float(input(\"Enter the breath of the cuboid:\"))\n",
        "height = float(input(\"Enter the height of the cuboid:\"))\n",
        "volume = length*breath*height\n",
        "print(f\"Volume of cuboid with {length},{breath} and {height} is {volume}\")"
      ],
      "execution_count": 8,
      "outputs": [
        {
          "output_type": "stream",
          "name": "stdout",
          "text": [
            "Enter the length of the cuboid:1\n",
            "Enter the breath of the cuboid:2\n",
            "Enter the height of the cuboid:3\n",
            "Volume of cuboid with 1.0,2.0 and 3.0 is 6.0\n"
          ]
        }
      ]
    },
    {
      "cell_type": "markdown",
      "metadata": {
        "id": "Cq14mVajlA0k"
      },
      "source": [
        "## 4. Write a python script to calculate simple interest, data required should be taken from user."
      ]
    },
    {
      "cell_type": "code",
      "metadata": {
        "colab": {
          "base_uri": "https://localhost:8080/"
        },
        "id": "PQNHBtBXkylv",
        "outputId": "eab41de1-1e2b-4427-97b9-97c32e465003"
      },
      "source": [
        "amount = float(input(\"Enter the amount:\"))\n",
        "rate = float(input(\"Enter the rate:\"))\n",
        "time = float(input(\"Enter the time:\"))\n",
        "si = (amount*rate*time)/100\n",
        "print(f\"The Simple interest on amount of {amount} will be {si}\")"
      ],
      "execution_count": 9,
      "outputs": [
        {
          "output_type": "stream",
          "name": "stdout",
          "text": [
            "Enter the amount:2000\n",
            "Enter the rate:2\n",
            "Enter the time:3\n",
            "The Simple interest on amount of 2000.0 will be 120.0\n"
          ]
        }
      ]
    },
    {
      "cell_type": "markdown",
      "metadata": {
        "id": "PSoh3U92lj-y"
      },
      "source": [
        "## 5. Write a python script to calculate square of a given number (number is taken from user)"
      ]
    },
    {
      "cell_type": "code",
      "metadata": {
        "colab": {
          "base_uri": "https://localhost:8080/"
        },
        "id": "wNiY5eoslCvs",
        "outputId": "ac41b74f-e2ad-4eb9-96ec-19a70dd9c5c8"
      },
      "source": [
        "num = int(input(\"Enter the number to find square:\"))\n",
        "print(f\"The square of the number {num} is {num**2}\")"
      ],
      "execution_count": 12,
      "outputs": [
        {
          "output_type": "stream",
          "name": "stdout",
          "text": [
            "Enter the number to find square:7\n",
            "The square of the number 7 is 49\n"
          ]
        }
      ]
    },
    {
      "cell_type": "markdown",
      "metadata": {
        "id": "L3t2Tb6dmF2n"
      },
      "source": [
        "## 6. Write a python script to calculate area of a triangle. Lengths of the sides are given by user.\n"
      ]
    },
    {
      "cell_type": "code",
      "metadata": {
        "colab": {
          "base_uri": "https://localhost:8080/"
        },
        "id": "lVulJFppllz1",
        "outputId": "90be201a-8f95-4995-990a-22c7ead84d56"
      },
      "source": [
        "base = float(input(\"Enter the base:\"))\n",
        "height = float(input(\"Enter the height:\"))\n",
        "area = (1/2)*base*height\n",
        "print(f\"The area of triangle with {base} and {height} is {area}\")"
      ],
      "execution_count": 14,
      "outputs": [
        {
          "output_type": "stream",
          "name": "stdout",
          "text": [
            "Enter the base:14\n",
            "Enter the height:5\n",
            "The area of triangle with 14.0 and 5.0 is 35.0\n"
          ]
        }
      ]
    },
    {
      "cell_type": "code",
      "metadata": {
        "id": "FxLnZkHImIEH"
      },
      "source": [
        ""
      ],
      "execution_count": null,
      "outputs": []
    }
  ]
}